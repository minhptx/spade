{
 "cells": [
  {
   "cell_type": "code",
   "execution_count": 1,
   "metadata": {},
   "outputs": [],
   "source": [
    "%load_ext autoreload\n",
    "%autoreload 2\n",
    "\n",
    "import sys\n",
    "\n",
    "import torch\n",
    "\n",
    "if r\"../../../kb-data-cleaning/kbclean\" not in sys.path:\n",
    "    sys.path.append(r\"../../../kb-data-cleaning/kbclean\")\n",
    "\n",
    "method = \"oc_gan\""
   ]
  },
  {
   "cell_type": "markdown",
   "metadata": {},
   "source": [
    "## Load hyper-parameters for experiments"
   ]
  },
  {
   "cell_type": "code",
   "execution_count": 2,
   "metadata": {},
   "outputs": [
    {
     "data": {
      "text/plain": [
       "{'batch_size': 3500,\n",
       " 'input_dim': 200,\n",
       " 'gen_hid_dim': 100,\n",
       " 'latent_dim': 50,\n",
       " 'dropout_p': 0.75,\n",
       " 'lr': 0.0005,\n",
       " 'amp_level': 'O1',\n",
       " 'max_length': 100}"
      ]
     },
     "execution_count": 2,
     "metadata": {},
     "output_type": "execute_result"
    }
   ],
   "source": [
    "import yaml\n",
    "\n",
    "hparams = yaml.load(open(f\"../../config/{method}.yaml\", \"r\"), Loader=yaml.FullLoader)\n",
    "hparams"
   ]
  },
  {
   "cell_type": "code",
   "execution_count": 3,
   "metadata": {},
   "outputs": [],
   "source": [
    "from argparse import Namespace\n",
    "\n",
    "import torch\n",
    "\n",
    "hparams = Namespace(**hparams)\n",
    "device = torch.device(\"cuda\" if torch.cuda.is_available() else \"cpu\")"
   ]
  },
  {
   "cell_type": "markdown",
   "metadata": {},
   "source": [
    "## Preprocess data"
   ]
  },
  {
   "cell_type": "code",
   "execution_count": 4,
   "metadata": {},
   "outputs": [
    {
     "data": {
      "text/plain": [
       "(1421482, 20)"
      ]
     },
     "execution_count": 4,
     "metadata": {},
     "output_type": "execute_result"
    }
   ],
   "source": [
    "import numpy as np\n",
    "\n",
    "encoded_data = np.load(\"../../data/numpy/encoded.npy\")\n",
    "\n",
    "encoded_data.shape"
   ]
  },
  {
   "cell_type": "code",
   "execution_count": 5,
   "metadata": {},
   "outputs": [],
   "source": [
    "from sklearn.preprocessing import MinMaxScaler\n",
    "\n",
    "scaler = MinMaxScaler()\n",
    "encoded_data = scaler.fit_transform(encoded_data)"
   ]
  },
  {
   "cell_type": "code",
   "execution_count": 6,
   "metadata": {},
   "outputs": [
    {
     "data": {
      "text/plain": [
       "995037"
      ]
     },
     "execution_count": 6,
     "metadata": {},
     "output_type": "execute_result"
    }
   ],
   "source": [
    "from torch.utils.data import DataLoader, random_split\n",
    "\n",
    "train_length = int(len(encoded_data) * 0.7)\n",
    "train_dataset, val_dataset = random_split(\n",
    "    list(encoded_data), [train_length, len(encoded_data) - train_length],\n",
    ")\n",
    "\n",
    "len(train_dataset)"
   ]
  },
  {
   "cell_type": "code",
   "execution_count": 7,
   "metadata": {},
   "outputs": [],
   "source": [
    "train_dataloader = DataLoader(\n",
    "    train_dataset, batch_size=hparams.batch_size, num_workers=16,\n",
    ")\n",
    "\n",
    "val_dataloader = DataLoader(\n",
    "    val_dataset, batch_size=hparams.batch_size, num_workers=16,\n",
    ")"
   ]
  },
  {
   "cell_type": "markdown",
   "metadata": {},
   "source": [
    "## Load pre-trained encoder + regular-GAN discriminator"
   ]
  },
  {
   "cell_type": "code",
   "execution_count": 8,
   "metadata": {},
   "outputs": [],
   "source": [
    "from pytorch_lightning import Trainer\n",
    "from pytorch_lightning.callbacks import ModelCheckpoint\n",
    "from pytorch_lightning.loggers import TensorBoardLogger\n",
    "\n",
    "from utils.logger import MyTensorBoardLogger\n",
    "from models.gan import RGANDiscriminator, OneClassGAN\n",
    "\n",
    "# rgan = RGANDiscriminator(hparams)\n",
    "\n",
    "# trainer = Trainer(\n",
    "#     gpus=[0, 1, 2, 3],\n",
    "#     amp_level=\"O1\",\n",
    "#     default_root_dir=\"../../checkpoints/rgan/\",\n",
    "#     distributed_backend=\"dp\",\n",
    "#     logger=MyTensorBoardLogger(\"../../tt_logs\", \"rgan\"),\n",
    "#     max_epochs=10\n",
    "# )\n",
    "# trainer.fit(\n",
    "#     rgan, train_dataloader=train_dataloader, val_dataloaders=[val_dataloader]\n",
    "# )\n",
    "\n",
    "rgan = RGANDiscriminator.load_from_checkpoint(\"../../tt_logs/rgan/version_0/checkpoints/epoch=9.ckpt\")"
   ]
  },
  {
   "cell_type": "code",
   "execution_count": null,
   "metadata": {},
   "outputs": [],
   "source": [
    "ogan = OneClassGAN(hparams, rgan)\n",
    "\n",
    "trainer = Trainer(\n",
    "    gpus=[0, 1, 2, 3],\n",
    "    amp_level=\"O1\",\n",
    "    benchmark=False,\n",
    "    default_save_path=\"../../checkpoints/ocgan/\",\n",
    "    distributed_backend=\"ddp\",\n",
    "    auto_scale_batch_size='binsearch',\n",
    "    logger=MyTensorBoardLogger(\"../../tt_logs\", \"ocgan\"),\n",
    "    max_epochs=10\n",
    ")\n",
    "trainer.fit(\n",
    "    ogan, train_dataloader=train_dataloader\n",
    ")"
   ]
  },
  {
   "cell_type": "code",
   "execution_count": null,
   "metadata": {},
   "outputs": [],
   "source": []
  }
 ],
 "metadata": {
  "kernelspec": {
   "display_name": "Python 3",
   "language": "python",
   "name": "python3"
  },
  "language_info": {
   "codemirror_mode": {
    "name": "ipython",
    "version": 3
   },
   "file_extension": ".py",
   "mimetype": "text/x-python",
   "name": "python",
   "nbconvert_exporter": "python",
   "pygments_lexer": "ipython3",
   "version": "3.7.6"
  }
 },
 "nbformat": 4,
 "nbformat_minor": 4
}
