{
 "cells": [
  {
   "cell_type": "code",
   "execution_count": 1,
   "metadata": {},
   "outputs": [],
   "source": [
    "%load_ext autoreload\n",
    "%autoreload 2\n",
    "\n",
    "import sys\n",
    "\n",
    "import torch\n",
    "\n",
    "if r\"../../../kb-data-cleaning/kbclean\" not in sys.path:\n",
    "    sys.path.append(r\"../../../kb-data-cleaning/kbclean\")\n",
    "\n",
    "method = \"gan\""
   ]
  },
  {
   "cell_type": "markdown",
   "metadata": {},
   "source": [
    "## Load hyper-parameters for experiments"
   ]
  },
  {
   "cell_type": "code",
   "execution_count": 2,
   "metadata": {},
   "outputs": [
    {
     "data": {
      "text/plain": [
       "{'batch_size': 3500,\n",
       " 'gen_emb_dim': 32,\n",
       " 'dis_emb_dim': 64,\n",
       " 'filter_sizes': [1, 2, 3, 4, 5, 6, 7, 8, 9, 10, 15, 20],\n",
       " 'num_filters': [100, 200, 200, 200, 200, 100, 100, 100, 100, 100, 160, 160],\n",
       " 'dropout_p': 0.75,\n",
       " 'lr': 0.0005,\n",
       " 'amp_level': 'O1',\n",
       " 'max_length': 100}"
      ]
     },
     "execution_count": 2,
     "metadata": {},
     "output_type": "execute_result"
    }
   ],
   "source": [
    "import yaml\n",
    "\n",
    "hparams = yaml.load(open(f\"../../config/{method}.yaml\", \"r\"), Loader=yaml.FullLoader)\n",
    "hparams"
   ]
  },
  {
   "cell_type": "code",
   "execution_count": 3,
   "metadata": {},
   "outputs": [],
   "source": [
    "from argparse import Namespace\n",
    "\n",
    "import torch\n",
    "\n",
    "hparams = Namespace(**hparams)\n",
    "device = torch.device(\"cuda\" if torch.cuda.is_available() else \"cpu\")"
   ]
  },
  {
   "cell_type": "markdown",
   "metadata": {},
   "source": [
    "## Preprocess data"
   ]
  },
  {
   "cell_type": "code",
   "execution_count": 4,
   "metadata": {},
   "outputs": [],
   "source": [
    "import pandas as pd\n",
    "\n",
    "df = pd.read_csv(\"../../data/train/sherlock-all/first100k.csv\")\n",
    "\n",
    "data = df[\"data\"].values.tolist()"
   ]
  },
  {
   "cell_type": "code",
   "execution_count": 5,
   "metadata": {},
   "outputs": [
    {
     "data": {
      "text/plain": [
       "(['Story',\n",
       "  'Print, billboards, press ads, ambient',\n",
       "  'Story',\n",
       "  'Print, billboards, press ads, ambient',\n",
       "  'Print, billboards, press ads, ambient'],\n",
       " ['type', 'type', 'type', 'type', 'type'])"
      ]
     },
     "execution_count": 5,
     "metadata": {},
     "output_type": "execute_result"
    }
   ],
   "source": [
    "data[:5], labels[:5]"
   ]
  },
  {
   "cell_type": "code",
   "execution_count": 6,
   "metadata": {},
   "outputs": [],
   "source": [
    "import string\n",
    "\n",
    "import regex as re\n",
    "from torchnlp.encoders.text import CharacterEncoder\n",
    "\n",
    "char_encoder = CharacterEncoder(data, append_eos=True)\n",
    "hparams.vocab_size = char_encoder.vocab_size\n",
    "hparams.vocab_size"
   ]
  },
  {
   "cell_type": "code",
   "execution_count": 8,
   "metadata": {},
   "outputs": [
    {
     "data": {
      "text/plain": [
       "995037"
      ]
     },
     "execution_count": 8,
     "metadata": {},
     "output_type": "execute_result"
    }
   ],
   "source": [
    "from torch.utils.data import DataLoader, SequentialSampler, random_split\n",
    "from torchnlp.encoders.text import stack_and_pad_tensors\n",
    "from torchnlp.samplers import BucketBatchSampler\n",
    "\n",
    "data = [example[:100] in data if example]\n",
    "\n",
    "def collate_fn(batch):\n",
    "    return char_encoder.batch_encode(batch)\n",
    "\n",
    "train_length = int(len(data) * 0.7)\n",
    "train_dataset, val_dataset = random_split(\n",
    "    list(data), [train_length, len(data) - train_length],\n",
    ")\n",
    "\n",
    "len(train_dataset)"
   ]
  },
  {
   "cell_type": "code",
   "execution_count": 9,
   "metadata": {},
   "outputs": [],
   "source": [
    "train_dataloader = DataLoader(\n",
    "    train_dataset, batch_size=hparams.batch_size, collate_fn=collate_fn, num_workers=16,\n",
    ")\n",
    "\n",
    "val_dataloader = DataLoader(\n",
    "    val_dataset, batch_size=hparams.batch_size, collate_fn=collate_fn, num_workers=16,\n",
    ")"
   ]
  },
  {
   "cell_type": "markdown",
   "metadata": {},
   "source": [
    "## Load pre-trained encoder + regular-GAN discriminator"
   ]
  },
  {
   "cell_type": "code",
   "execution_count": null,
   "metadata": {},
   "outputs": [
    {
     "name": "stderr",
     "output_type": "stream",
     "text": [
      "INFO:lightning:GPU available: True, used: True\n",
      "INFO:lightning:CUDA_VISIBLE_DEVICES: [0,1,2,3]\n",
      "INFO:lightning:\n",
      "   | Name                           | Type      | Params\n",
      "---------------------------------------------------------\n",
      "0  | attn                           | Attention | 7 K   \n",
      "1  | attn.attn                      | Linear    | 7 K   \n",
      "2  | attn.v                         | Linear    | 50    \n",
      "3  | encoder                        | Encoder   | 78 K  \n",
      "4  | encoder.embedding              | Embedding | 43 K  \n",
      "5  | encoder.rnn                    | GRU       | 30 K  \n",
      "6  | encoder.fc                     | Linear    | 5 K   \n",
      "7  | encoder.dropout                | Dropout   | 0     \n",
      "8  | decoder                        | Decoder   | 254 K \n",
      "9  | decoder.embedding              | Embedding | 43 K  \n",
      "10 | decoder.rnn                    | GRU       | 30 K  \n",
      "11 | decoder.fc_out                 | Linear    | 173 K \n",
      "12 | decoder.dropout                | Dropout   | 0     \n",
      "13 | hidden2latent                  | Lambda    | 1 K   \n",
      "14 | hidden2latent.hidden_to_mean   | Linear    | 510   \n",
      "15 | hidden2latent.hidden_to_logvar | Linear    | 510   \n",
      "16 | latent2hidden                  | Linear    | 550   \n"
     ]
    },
    {
     "data": {
      "application/vnd.jupyter.widget-view+json": {
       "model_id": "",
       "version_major": 2,
       "version_minor": 0
      },
      "text/plain": [
       "HBox(children=(FloatProgress(value=1.0, bar_style='info', description='Validation sanity check', layout=Layout…"
      ]
     },
     "metadata": {},
     "output_type": "display_data"
    },
    {
     "data": {
      "application/vnd.jupyter.widget-view+json": {
       "model_id": "29ca4359d14c4e5d89fea55e447352d5",
       "version_major": 2,
       "version_minor": 0
      },
      "text/plain": [
       "HBox(children=(FloatProgress(value=1.0, bar_style='info', description='Training', layout=Layout(flex='2'), max…"
      ]
     },
     "metadata": {},
     "output_type": "display_data"
    },
    {
     "name": "stderr",
     "output_type": "stream",
     "text": [
      "/nas/home/minhpham/miniconda3/lib/python3.7/site-packages/torch/nn/parallel/_functions.py:61: UserWarning: Was asked to gather along dimension 0, but all input tensors were scalars; will instead unsqueeze and return a vector.\n",
      "  warnings.warn('Was asked to gather along dimension 0, but all '\n"
     ]
    },
    {
     "data": {
      "application/vnd.jupyter.widget-view+json": {
       "model_id": "",
       "version_major": 2,
       "version_minor": 0
      },
      "text/plain": [
       "HBox(children=(FloatProgress(value=1.0, bar_style='info', description='Validating', layout=Layout(flex='2'), m…"
      ]
     },
     "metadata": {},
     "output_type": "display_data"
    },
    {
     "name": "stdout",
     "output_type": "stream",
     "text": [
      "[('Nen eer er n  eeeenn ', 'North American Green'), ('Soe    e         r    </s>', 'Smet, Raoul de more...'), ('F</s>', 'F'), ('—oonnnin</s></s>', '— Wyoming'), ('38</s></s>', '385'), ('Stanaatatal </s></s></s></s></s>', \"Sportsman's Park\"), ('Ea a a a</s></s></s></s></s></s></s>', 'Engel Hall 102'), ('20001100110', '2011-03-02'), ('0.0</s>', '0.0'), ('Ball</s></s></s>', 'Bengal')]\n"
     ]
    },
    {
     "name": "stderr",
     "output_type": "stream",
     "text": [
      "/nas/home/minhpham/miniconda3/lib/python3.7/site-packages/pytorch_lightning/utilities/distributed.py:23: RuntimeWarning: Can save best model only with val_loss available, skipping.\n",
      "  warnings.warn(*args, **kwargs)\n"
     ]
    },
    {
     "data": {
      "application/vnd.jupyter.widget-view+json": {
       "model_id": "",
       "version_major": 2,
       "version_minor": 0
      },
      "text/plain": [
       "HBox(children=(FloatProgress(value=1.0, bar_style='info', description='Validating', layout=Layout(flex='2'), m…"
      ]
     },
     "metadata": {},
     "output_type": "display_data"
    },
    {
     "name": "stdout",
     "output_type": "stream",
     "text": [
      "[('Stoughton</s>', 'Stoughton'), ('Sunday</s>', 'Sunday'), ('NC</s>', 'NC'), ('T11-1</s>', 'T 1-1'), ('Unin  o  iinnentontuuuutt</s>', 'Univ. of Minnesota-Duluth'), ('NAA</s>', 'NYA'), ('Adult</s>', 'Adult'), ('Reveree oortiage</s>', 'Reverse mortgage'), ('0.0</s>', '0.0'), ('Rap Accusation</s>', 'Rap Accusation')]\n"
     ]
    },
    {
     "data": {
      "application/vnd.jupyter.widget-view+json": {
       "model_id": "",
       "version_major": 2,
       "version_minor": 0
      },
      "text/plain": [
       "HBox(children=(FloatProgress(value=1.0, bar_style='info', description='Validating', layout=Layout(flex='2'), m…"
      ]
     },
     "metadata": {},
     "output_type": "display_data"
    },
    {
     "name": "stdout",
     "output_type": "stream",
     "text": [
      "[('UCF</s>', 'UCF'), ('3:39</s>', '3:39'), ('73 yrs 25 days</s>', '73 yrs 25 days'), ('Fluor Corp</s>', 'Fluor Corp'), ('OK14</s>', 'OK14'), ('FIU vs Stetson</s>', 'FIU vs Stetson'), ('single,</s>', 'single,'), ('Ireland</s>', 'Ireland'), ('Rep. Cynthia M  Lummis</s>', 'Rep. Cynthia M. Lummis'), ('0.0</s>', '0.0')]\n"
     ]
    },
    {
     "data": {
      "application/vnd.jupyter.widget-view+json": {
       "model_id": "",
       "version_major": 2,
       "version_minor": 0
      },
      "text/plain": [
       "HBox(children=(FloatProgress(value=1.0, bar_style='info', description='Validating', layout=Layout(flex='2'), m…"
      ]
     },
     "metadata": {},
     "output_type": "display_data"
    },
    {
     "name": "stdout",
     "output_type": "stream",
     "text": [
      "[('retep1944</s>', 'retep1944'), ('JR</s>', 'JR'), ('Barry McHugh</s>', 'Barry McHugh'), ('0.0</s>', '0.0'), ('MN</s>', 'MN'), ('Nhk</s>', 'Nfk'), ('2012</s>', '2012'), ('NORDIC AMER…</s>', 'NORDIC AMER…'), (\"Angel's Prayer</s>\", \"Angel's Prayer\"), ('Canada</s>', 'Canada')]\n"
     ]
    },
    {
     "data": {
      "application/vnd.jupyter.widget-view+json": {
       "model_id": "",
       "version_major": 2,
       "version_minor": 0
      },
      "text/plain": [
       "HBox(children=(FloatProgress(value=1.0, bar_style='info', description='Validating', layout=Layout(flex='2'), m…"
      ]
     },
     "metadata": {},
     "output_type": "display_data"
    },
    {
     "name": "stdout",
     "output_type": "stream",
     "text": [
      "[('2</s>', '2'), ('Georgia</s>', 'Georgia'), ('Tyler Flowers</s>', 'Tyler Flowers'), ('Bing Bang Boys</s>', 'Bing Bang Boys'), ('34</s>', '34'), ('Wellington</s>', 'Wellington'), ('1998</s>', '1998'), ('Review</s>', 'Review'), ('Atlanta, GA</s>', 'Atlanta, GA'), ('ISF</s>', 'ISF')]\n"
     ]
    },
    {
     "data": {
      "application/vnd.jupyter.widget-view+json": {
       "model_id": "",
       "version_major": 2,
       "version_minor": 0
      },
      "text/plain": [
       "HBox(children=(FloatProgress(value=1.0, bar_style='info', description='Validating', layout=Layout(flex='2'), m…"
      ]
     },
     "metadata": {},
     "output_type": "display_data"
    },
    {
     "name": "stdout",
     "output_type": "stream",
     "text": [
      "[('CANNONBALL</s>', 'CANNONBALL'), ('Combined sources Manullly validated informatinninffereer r   mmomomiiontoon fo feeeemeeatataand  omp</s>', 'Combined sources Manually validated information inferred from a combination of experimental and comp'), ('Toronto</s>', 'Toronto'), ('25</s>', '25'), ('Nsw</s>', 'Nsw'), ('20</s>', '20'), ('0.0</s>', '0.0'), ('Las Vegas</s>', 'Las Vegas'), ('DCAC</s>', 'DCAC'), ('Pacific Power Blue Sky</s>', 'Pacific Power Blue Sky')]\n"
     ]
    },
    {
     "data": {
      "application/vnd.jupyter.widget-view+json": {
       "model_id": "",
       "version_major": 2,
       "version_minor": 0
      },
      "text/plain": [
       "HBox(children=(FloatProgress(value=1.0, bar_style='info', description='Validating', layout=Layout(flex='2'), m…"
      ]
     },
     "metadata": {},
     "output_type": "display_data"
    },
    {
     "name": "stdout",
     "output_type": "stream",
     "text": [
      "[('Montpellier</s>', 'Montpellier'), ('0.0</s>', '0.0'), ('const</s>', 'const'), ('86</s>', '86'), ('Woodside</s>', 'Woodside'), ('278</s>', '278'), ('49</s>', '49'), ('18</s>', '18'), ('Gaby Sanchez</s>', 'Gaby Sanchez'), ('3</s>', '3')]\n"
     ]
    },
    {
     "name": "stderr",
     "output_type": "stream",
     "text": [
      "Process Process-251:\n",
      "Process Process-254:\n",
      "Process Process-252:\n",
      "Process Process-253:\n",
      "Process Process-248:\n",
      "Process Process-250:\n",
      "Process Process-247:\n",
      "Process Process-255:\n",
      "Process Process-242:\n",
      "Process Process-249:\n",
      "Process Process-256:\n",
      "Process Process-246:\n",
      "Process Process-241:\n",
      "Traceback (most recent call last):\n",
      "  File \"/nas/home/minhpham/miniconda3/lib/python3.7/threading.py\", line 1060, in _wait_for_tstate_lock\n",
      "    elif lock.acquire(block, timeout):\n",
      "Traceback (most recent call last):\n",
      "Exception ignored in: <function _MultiProcessingDataLoaderIter.__del__ at 0x7fa9a2d01050>\n",
      "Traceback (most recent call last):\n",
      "  File \"/nas/home/minhpham/miniconda3/lib/python3.7/site-packages/torch/utils/data/dataloader.py\", line 962, in __del__\n",
      "    self._shutdown_workers()\n",
      "  File \"/nas/home/minhpham/miniconda3/lib/python3.7/site-packages/torch/utils/data/dataloader.py\", line 942, in _shutdown_workers\n",
      "    w.join()\n",
      "  File \"/nas/home/minhpham/miniconda3/lib/python3.7/multiprocessing/process.py\", line 140, in join\n",
      "    res = self._popen.wait(timeout)\n",
      "  File \"/nas/home/minhpham/miniconda3/lib/python3.7/multiprocessing/popen_fork.py\", line 48, in wait\n",
      "    return self.poll(os.WNOHANG if timeout == 0.0 else 0)\n",
      "  File \"/nas/home/minhpham/miniconda3/lib/python3.7/multiprocessing/popen_fork.py\", line 28, in poll\n",
      "    pid, sts = os.waitpid(self.pid, flag)\n",
      "KeyboardInterrupt: \n",
      "INFO:lightning:Detected KeyboardInterrupt, attempting graceful shutdown...\n",
      "Traceback (most recent call last):\n",
      "Traceback (most recent call last):\n"
     ]
    },
    {
     "name": "stdout",
     "output_type": "stream",
     "text": [
      "\n"
     ]
    },
    {
     "name": "stderr",
     "output_type": "stream",
     "text": [
      "Traceback (most recent call last):\n",
      "Traceback (most recent call last):\n",
      "  File \"/nas/home/minhpham/miniconda3/lib/python3.7/multiprocessing/process.py\", line 300, in _bootstrap\n",
      "    util._exit_function()\n"
     ]
    },
    {
     "data": {
      "text/plain": [
       "1"
      ]
     },
     "execution_count": 11,
     "metadata": {},
     "output_type": "execute_result"
    },
    {
     "name": "stderr",
     "output_type": "stream",
     "text": [
      "Traceback (most recent call last):\n",
      "Traceback (most recent call last):\n",
      "Traceback (most recent call last):\n",
      "  File \"/nas/home/minhpham/miniconda3/lib/python3.7/multiprocessing/process.py\", line 300, in _bootstrap\n",
      "    util._exit_function()\n",
      "Traceback (most recent call last):\n",
      "Traceback (most recent call last):\n",
      "Traceback (most recent call last):\n",
      "Traceback (most recent call last):\n",
      "  File \"/nas/home/minhpham/miniconda3/lib/python3.7/multiprocessing/process.py\", line 300, in _bootstrap\n",
      "    util._exit_function()\n",
      "  File \"/nas/home/minhpham/miniconda3/lib/python3.7/multiprocessing/process.py\", line 300, in _bootstrap\n",
      "    util._exit_function()\n",
      "  File \"/nas/home/minhpham/miniconda3/lib/python3.7/multiprocessing/process.py\", line 300, in _bootstrap\n",
      "    util._exit_function()\n",
      "  File \"/nas/home/minhpham/miniconda3/lib/python3.7/multiprocessing/process.py\", line 300, in _bootstrap\n",
      "    util._exit_function()\n",
      "  File \"/nas/home/minhpham/miniconda3/lib/python3.7/multiprocessing/process.py\", line 300, in _bootstrap\n",
      "    util._exit_function()\n",
      "  File \"/nas/home/minhpham/miniconda3/lib/python3.7/multiprocessing/process.py\", line 300, in _bootstrap\n",
      "    util._exit_function()\n",
      "  File \"/nas/home/minhpham/miniconda3/lib/python3.7/multiprocessing/process.py\", line 300, in _bootstrap\n",
      "    util._exit_function()\n",
      "  File \"/nas/home/minhpham/miniconda3/lib/python3.7/multiprocessing/util.py\", line 337, in _exit_function\n",
      "    _run_finalizers()\n",
      "  File \"/nas/home/minhpham/miniconda3/lib/python3.7/multiprocessing/util.py\", line 337, in _exit_function\n",
      "    _run_finalizers()\n",
      "  File \"/nas/home/minhpham/miniconda3/lib/python3.7/multiprocessing/process.py\", line 300, in _bootstrap\n",
      "    util._exit_function()\n",
      "  File \"/nas/home/minhpham/miniconda3/lib/python3.7/multiprocessing/process.py\", line 300, in _bootstrap\n",
      "    util._exit_function()\n",
      "  File \"/nas/home/minhpham/miniconda3/lib/python3.7/multiprocessing/util.py\", line 337, in _exit_function\n",
      "    _run_finalizers()\n",
      "  File \"/nas/home/minhpham/miniconda3/lib/python3.7/multiprocessing/util.py\", line 337, in _exit_function\n",
      "    _run_finalizers()\n",
      "  File \"/nas/home/minhpham/miniconda3/lib/python3.7/multiprocessing/util.py\", line 337, in _exit_function\n",
      "    _run_finalizers()\n",
      "  File \"/nas/home/minhpham/miniconda3/lib/python3.7/multiprocessing/process.py\", line 300, in _bootstrap\n",
      "    util._exit_function()\n",
      "  File \"/nas/home/minhpham/miniconda3/lib/python3.7/multiprocessing/util.py\", line 337, in _exit_function\n",
      "    _run_finalizers()\n",
      "  File \"/nas/home/minhpham/miniconda3/lib/python3.7/multiprocessing/process.py\", line 300, in _bootstrap\n",
      "    util._exit_function()\n",
      "  File \"/nas/home/minhpham/miniconda3/lib/python3.7/multiprocessing/util.py\", line 337, in _exit_function\n",
      "    _run_finalizers()\n",
      "  File \"/nas/home/minhpham/miniconda3/lib/python3.7/multiprocessing/util.py\", line 337, in _exit_function\n",
      "    _run_finalizers()\n",
      "  File \"/nas/home/minhpham/miniconda3/lib/python3.7/multiprocessing/util.py\", line 337, in _exit_function\n",
      "    _run_finalizers()\n",
      "  File \"/nas/home/minhpham/miniconda3/lib/python3.7/multiprocessing/util.py\", line 277, in _run_finalizers\n",
      "    finalizer()\n",
      "  File \"/nas/home/minhpham/miniconda3/lib/python3.7/multiprocessing/util.py\", line 277, in _run_finalizers\n",
      "    finalizer()\n",
      "  File \"/nas/home/minhpham/miniconda3/lib/python3.7/multiprocessing/util.py\", line 277, in _run_finalizers\n",
      "    finalizer()\n",
      "  File \"/nas/home/minhpham/miniconda3/lib/python3.7/multiprocessing/util.py\", line 337, in _exit_function\n",
      "    _run_finalizers()\n",
      "  File \"/nas/home/minhpham/miniconda3/lib/python3.7/multiprocessing/util.py\", line 277, in _run_finalizers\n",
      "    finalizer()\n",
      "  File \"/nas/home/minhpham/miniconda3/lib/python3.7/multiprocessing/util.py\", line 337, in _exit_function\n",
      "    _run_finalizers()\n",
      "  File \"/nas/home/minhpham/miniconda3/lib/python3.7/multiprocessing/util.py\", line 277, in _run_finalizers\n",
      "    finalizer()\n",
      "  File \"/nas/home/minhpham/miniconda3/lib/python3.7/multiprocessing/util.py\", line 277, in _run_finalizers\n",
      "    finalizer()\n",
      "  File \"/nas/home/minhpham/miniconda3/lib/python3.7/multiprocessing/util.py\", line 337, in _exit_function\n",
      "    _run_finalizers()\n",
      "  File \"/nas/home/minhpham/miniconda3/lib/python3.7/multiprocessing/util.py\", line 337, in _exit_function\n",
      "    _run_finalizers()\n",
      "  File \"/nas/home/minhpham/miniconda3/lib/python3.7/multiprocessing/util.py\", line 277, in _run_finalizers\n",
      "    finalizer()\n",
      "  File \"/nas/home/minhpham/miniconda3/lib/python3.7/multiprocessing/util.py\", line 277, in _run_finalizers\n",
      "    finalizer()\n",
      "  File \"/nas/home/minhpham/miniconda3/lib/python3.7/multiprocessing/util.py\", line 201, in __call__\n",
      "    res = self._callback(*self._args, **self._kwargs)\n",
      "  File \"/nas/home/minhpham/miniconda3/lib/python3.7/multiprocessing/util.py\", line 201, in __call__\n",
      "    res = self._callback(*self._args, **self._kwargs)\n",
      "  File \"/nas/home/minhpham/miniconda3/lib/python3.7/multiprocessing/util.py\", line 201, in __call__\n",
      "    res = self._callback(*self._args, **self._kwargs)\n",
      "  File \"/nas/home/minhpham/miniconda3/lib/python3.7/multiprocessing/util.py\", line 277, in _run_finalizers\n",
      "    finalizer()\n",
      "  File \"/nas/home/minhpham/miniconda3/lib/python3.7/multiprocessing/util.py\", line 201, in __call__\n",
      "    res = self._callback(*self._args, **self._kwargs)\n",
      "  File \"/nas/home/minhpham/miniconda3/lib/python3.7/multiprocessing/util.py\", line 277, in _run_finalizers\n",
      "    finalizer()\n",
      "  File \"/nas/home/minhpham/miniconda3/lib/python3.7/multiprocessing/util.py\", line 201, in __call__\n",
      "    res = self._callback(*self._args, **self._kwargs)\n",
      "  File \"/nas/home/minhpham/miniconda3/lib/python3.7/multiprocessing/util.py\", line 277, in _run_finalizers\n",
      "    finalizer()\n",
      "  File \"/nas/home/minhpham/miniconda3/lib/python3.7/multiprocessing/util.py\", line 201, in __call__\n",
      "    res = self._callback(*self._args, **self._kwargs)\n",
      "  File \"/nas/home/minhpham/miniconda3/lib/python3.7/multiprocessing/util.py\", line 201, in __call__\n",
      "    res = self._callback(*self._args, **self._kwargs)\n",
      "  File \"/nas/home/minhpham/miniconda3/lib/python3.7/multiprocessing/util.py\", line 277, in _run_finalizers\n",
      "    finalizer()\n",
      "  File \"/nas/home/minhpham/miniconda3/lib/python3.7/multiprocessing/queues.py\", line 192, in _finalize_join\n",
      "    thread.join()\n",
      "  File \"/nas/home/minhpham/miniconda3/lib/python3.7/multiprocessing/util.py\", line 277, in _run_finalizers\n",
      "    finalizer()\n",
      "  File \"/nas/home/minhpham/miniconda3/lib/python3.7/multiprocessing/queues.py\", line 192, in _finalize_join\n",
      "    thread.join()\n",
      "  File \"/nas/home/minhpham/miniconda3/lib/python3.7/multiprocessing/util.py\", line 201, in __call__\n",
      "    res = self._callback(*self._args, **self._kwargs)\n",
      "  File \"/nas/home/minhpham/miniconda3/lib/python3.7/multiprocessing/queues.py\", line 192, in _finalize_join\n",
      "    thread.join()\n",
      "  File \"/nas/home/minhpham/miniconda3/lib/python3.7/multiprocessing/queues.py\", line 192, in _finalize_join\n",
      "    thread.join()\n",
      "  File \"/nas/home/minhpham/miniconda3/lib/python3.7/multiprocessing/util.py\", line 201, in __call__\n",
      "    res = self._callback(*self._args, **self._kwargs)\n",
      "  File \"/nas/home/minhpham/miniconda3/lib/python3.7/multiprocessing/util.py\", line 201, in __call__\n",
      "    res = self._callback(*self._args, **self._kwargs)\n",
      "  File \"/nas/home/minhpham/miniconda3/lib/python3.7/multiprocessing/queues.py\", line 192, in _finalize_join\n",
      "    thread.join()\n",
      "  File \"/nas/home/minhpham/miniconda3/lib/python3.7/multiprocessing/queues.py\", line 192, in _finalize_join\n",
      "    thread.join()\n",
      "  File \"/nas/home/minhpham/miniconda3/lib/python3.7/threading.py\", line 1044, in join\n",
      "    self._wait_for_tstate_lock()\n",
      "  File \"/nas/home/minhpham/miniconda3/lib/python3.7/multiprocessing/queues.py\", line 192, in _finalize_join\n",
      "    thread.join()\n",
      "  File \"/nas/home/minhpham/miniconda3/lib/python3.7/multiprocessing/util.py\", line 201, in __call__\n",
      "    res = self._callback(*self._args, **self._kwargs)\n",
      "  File \"/nas/home/minhpham/miniconda3/lib/python3.7/threading.py\", line 1044, in join\n",
      "    self._wait_for_tstate_lock()\n",
      "  File \"/nas/home/minhpham/miniconda3/lib/python3.7/multiprocessing/util.py\", line 201, in __call__\n",
      "    res = self._callback(*self._args, **self._kwargs)\n",
      "  File \"/nas/home/minhpham/miniconda3/lib/python3.7/multiprocessing/util.py\", line 201, in __call__\n",
      "    res = self._callback(*self._args, **self._kwargs)\n",
      "  File \"/nas/home/minhpham/miniconda3/lib/python3.7/threading.py\", line 1044, in join\n",
      "    self._wait_for_tstate_lock()\n",
      "  File \"/nas/home/minhpham/miniconda3/lib/python3.7/multiprocessing/queues.py\", line 192, in _finalize_join\n",
      "    thread.join()\n",
      "  File \"/nas/home/minhpham/miniconda3/lib/python3.7/threading.py\", line 1044, in join\n",
      "    self._wait_for_tstate_lock()\n",
      "  File \"/nas/home/minhpham/miniconda3/lib/python3.7/multiprocessing/queues.py\", line 192, in _finalize_join\n",
      "    thread.join()\n",
      "  File \"/nas/home/minhpham/miniconda3/lib/python3.7/threading.py\", line 1060, in _wait_for_tstate_lock\n",
      "    elif lock.acquire(block, timeout):\n",
      "  File \"/nas/home/minhpham/miniconda3/lib/python3.7/multiprocessing/queues.py\", line 192, in _finalize_join\n",
      "    thread.join()\n",
      "  File \"/nas/home/minhpham/miniconda3/lib/python3.7/threading.py\", line 1044, in join\n",
      "    self._wait_for_tstate_lock()\n",
      "  File \"/nas/home/minhpham/miniconda3/lib/python3.7/threading.py\", line 1044, in join\n",
      "    self._wait_for_tstate_lock()\n",
      "  File \"/nas/home/minhpham/miniconda3/lib/python3.7/threading.py\", line 1044, in join\n",
      "    self._wait_for_tstate_lock()\n",
      "  File \"/nas/home/minhpham/miniconda3/lib/python3.7/threading.py\", line 1060, in _wait_for_tstate_lock\n",
      "    elif lock.acquire(block, timeout):\n",
      "  File \"/nas/home/minhpham/miniconda3/lib/python3.7/multiprocessing/queues.py\", line 192, in _finalize_join\n",
      "    thread.join()\n",
      "  File \"/nas/home/minhpham/miniconda3/lib/python3.7/threading.py\", line 1060, in _wait_for_tstate_lock\n",
      "    elif lock.acquire(block, timeout):\n",
      "  File \"/nas/home/minhpham/miniconda3/lib/python3.7/multiprocessing/queues.py\", line 192, in _finalize_join\n",
      "    thread.join()\n",
      "  File \"/nas/home/minhpham/miniconda3/lib/python3.7/threading.py\", line 1044, in join\n",
      "    self._wait_for_tstate_lock()\n",
      "KeyboardInterrupt\n",
      "  File \"/nas/home/minhpham/miniconda3/lib/python3.7/threading.py\", line 1060, in _wait_for_tstate_lock\n",
      "    elif lock.acquire(block, timeout):\n",
      "  File \"/nas/home/minhpham/miniconda3/lib/python3.7/multiprocessing/queues.py\", line 192, in _finalize_join\n",
      "    thread.join()\n",
      "  File \"/nas/home/minhpham/miniconda3/lib/python3.7/threading.py\", line 1060, in _wait_for_tstate_lock\n",
      "    elif lock.acquire(block, timeout):\n",
      "  File \"/nas/home/minhpham/miniconda3/lib/python3.7/threading.py\", line 1060, in _wait_for_tstate_lock\n",
      "    elif lock.acquire(block, timeout):\n",
      "  File \"/nas/home/minhpham/miniconda3/lib/python3.7/threading.py\", line 1044, in join\n",
      "    self._wait_for_tstate_lock()\n",
      "KeyboardInterrupt\n",
      "KeyboardInterrupt\n",
      "  File \"/nas/home/minhpham/miniconda3/lib/python3.7/threading.py\", line 1044, in join\n",
      "    self._wait_for_tstate_lock()\n",
      "  File \"/nas/home/minhpham/miniconda3/lib/python3.7/threading.py\", line 1044, in join\n",
      "    self._wait_for_tstate_lock()\n",
      "  File \"/nas/home/minhpham/miniconda3/lib/python3.7/threading.py\", line 1060, in _wait_for_tstate_lock\n",
      "    elif lock.acquire(block, timeout):\n",
      "  File \"/nas/home/minhpham/miniconda3/lib/python3.7/threading.py\", line 1044, in join\n",
      "    self._wait_for_tstate_lock()\n",
      "KeyboardInterrupt\n",
      "  File \"/nas/home/minhpham/miniconda3/lib/python3.7/threading.py\", line 1060, in _wait_for_tstate_lock\n",
      "    elif lock.acquire(block, timeout):\n",
      "KeyboardInterrupt\n",
      "KeyboardInterrupt\n"
     ]
    }
   ],
   "source": [
    "from pytorch_lightning import Trainer\n",
    "from pytorch_lightning.callbacks import ModelCheckpoint\n",
    "from pytorch_lightning.loggers import MLFlowLogger, TensorBoardLogger\n",
    "\n",
    "from utils.logger import MyTensorBoardLogger\n",
    "from models.gan import RGANDiscriminator, OneClassGAN\n",
    "\n",
    "encoder = \n",
    "\n",
    "rgan = RGANDiscriminator(hparams, device)\n",
    "\n",
    "trainer = Trainer(\n",
    "    gpus=[0, 1, 2, 3],\n",
    "    amp_level=hparams.amp_level,\n",
    "    benchmark=False,\n",
    "    default_save_path=\"../../checkpoints/sherlock/\",\n",
    "    distributed_backend=\"dp\",\n",
    "    logger=MyTensorBoardLogger(\"../../tt_logs\", \"rgan\"),\n",
    ")\n",
    "trainer.fit(\n",
    "    trainer, train_dataloader=train_dataloader\n",
    ")"
   ]
  },
  {
   "cell_type": "raw",
   "metadata": {},
   "source": []
  }
 ],
 "metadata": {
  "kernelspec": {
   "display_name": "Python 3",
   "language": "python",
   "name": "python3"
  },
  "language_info": {
   "codemirror_mode": {
    "name": "ipython",
    "version": 3
   },
   "file_extension": ".py",
   "mimetype": "text/x-python",
   "name": "python",
   "nbconvert_exporter": "python",
   "pygments_lexer": "ipython3",
   "version": "3.7.6"
  }
 },
 "nbformat": 4,
 "nbformat_minor": 4
}
