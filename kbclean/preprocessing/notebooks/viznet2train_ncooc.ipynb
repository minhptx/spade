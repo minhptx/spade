{
 "cells": [
  {
   "cell_type": "code",
   "execution_count": null,
   "metadata": {},
   "outputs": [],
   "source": [
    "%load_ext autoreload\n",
    "%autoreload 2"
   ]
  },
  {
   "cell_type": "code",
   "execution_count": null,
   "metadata": {},
   "outputs": [],
   "source": [
    "from dask.distributed import Client\n",
    "\n",
    "client = Client(\"tcp://127.0.0.1:35451\")\n",
    "client"
   ]
  },
  {
   "cell_type": "markdown",
   "metadata": {},
   "source": [
    "## Flatten and index values with their column ids"
   ]
  },
  {
   "cell_type": "code",
   "execution_count": null,
   "metadata": {},
   "outputs": [],
   "source": [
    "# import ftfy\n",
    "# import numpy as np\n",
    "# import pandas as pd\n",
    "# import dask.dataframe as dd\n",
    "\n",
    "# df = dd.read_csv(\"../../data/raw/viznet/*.csv\")\n",
    "# df[\"idx\"] = 1\n",
    "# df[\"idx\"] = df[\"idx\"].cumsum()\n",
    "\n",
    "\n",
    "# def eval_with_catch(x):\n",
    "#     try:\n",
    "#         return list(set(eval(x)))\n",
    "#     except Exception:\n",
    "#         return []\n",
    "\n",
    "\n",
    "# def clean_str(x):\n",
    "#     try:\n",
    "#         return ftfy.fix_text(x)\n",
    "#     except:\n",
    "#         return \"\"\n",
    "\n",
    "\n",
    "# df[\"data\"] = df[\"data\"].apply(func=eval_with_catch, meta=(\"data\", np.array([\"\"])))\n",
    "# df = df.explode(\"data\")\n",
    "# df[\"data\"] = df[\"data\"].apply(lambda x: clean_str(x), meta=(\"data\", str))\n",
    "# df = df.replace(\"\", np.nan)\n",
    "# df = df.dropna(subset=[\"data\"])\n",
    "# df.to_csv(\"../../data/train/viznet/indexed/all_indexed.csv\", single_file=True, index=False)"
   ]
  },
  {
   "cell_type": "code",
   "execution_count": null,
   "metadata": {},
   "outputs": [],
   "source": [
    "# df = dd.read_csv(\"../../data/train/viznet/indexed/all_indexed.csv\")"
   ]
  },
  {
   "cell_type": "markdown",
   "metadata": {},
   "source": [
    "## Convert values to patterns => Flatten and index pattern with their column ids"
   ]
  },
  {
   "cell_type": "code",
   "execution_count": null,
   "metadata": {},
   "outputs": [],
   "source": [
    "# pdf = df.assign(\n",
    "#     data=df.data.str.replace(\"\", \"\").replace(r\"[A-Z]\", \"A\", True)\n",
    "#     .replace(r\"[a-z]\", \"a\", True)\n",
    "#     .replace(r\"[0-9]\", \"0\", True)\n",
    "# )\n",
    "\n",
    "# pdf.to_csv(\"../../data/train/viznet/indexed/pattern_indexed.csv\", single_file=True, index=False)"
   ]
  },
  {
   "cell_type": "code",
   "execution_count": null,
   "metadata": {},
   "outputs": [],
   "source": [
    "import ftfy\n",
    "import numpy as np\n",
    "import pandas as pd\n",
    "import dask.dataframe as dd\n",
    "\n",
    "pdf = dd.read_csv(\"../../data/train/viznet/indexed/pattern_indexed.csv\")"
   ]
  },
  {
   "cell_type": "code",
   "execution_count": null,
   "metadata": {},
   "outputs": [],
   "source": [
    "pdf = pdf.assign(\n",
    "    data=pdf.data.str.replace(\"\", \"\").replace(r\"[A-Z]+\", \"A\", True)\n",
    "    .replace(r\"[a-z]+\", \"a\", True)\n",
    "    .replace(r\"[0-9]+\", \"0\", True)\n",
    ")"
   ]
  },
  {
   "cell_type": "code",
   "execution_count": null,
   "metadata": {},
   "outputs": [],
   "source": [
    "pdf[\"idx\"] = pdf[\"idx\"].apply(lambda x: [x], meta=(\"idx\", np.array([0])))\n",
    "pdf = pdf.persist()\n",
    "\n",
    "agg_df = pdf.groupby(\"data\").agg({\"idx\": \"sum\"})\n",
    "agg_df = agg_df.repartition(npartitions=64)\n",
    "agg_df = agg_df.assign(data=lambda x: x.index)"
   ]
  },
  {
   "cell_type": "code",
   "execution_count": null,
   "metadata": {},
   "outputs": [],
   "source": [
    "agg_df.to_json(\"../../data/train/viznet/pattern_n_cooc.jl\", orient=\"records\", compute=True)"
   ]
  },
  {
   "cell_type": "code",
   "execution_count": null,
   "metadata": {},
   "outputs": [],
   "source": []
  }
 ],
 "metadata": {
  "kernelspec": {
   "display_name": "Python 3.7.7 64-bit ('torch': conda)",
   "language": "python",
   "name": "python37764bittorchconda619657fd9e3249e097c69e9d63018998"
  },
  "language_info": {
   "codemirror_mode": {
    "name": "ipython",
    "version": 3
   },
   "file_extension": ".py",
   "mimetype": "text/x-python",
   "name": "python",
   "nbconvert_exporter": "python",
   "pygments_lexer": "ipython3",
   "version": "3.7.7"
  }
 },
 "nbformat": 4,
 "nbformat_minor": 4
}
