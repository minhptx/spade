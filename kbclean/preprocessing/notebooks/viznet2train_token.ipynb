{
 "cells": [
  {
   "cell_type": "code",
   "execution_count": null,
   "metadata": {},
   "outputs": [],
   "source": [
    "%load_ext autoreload\n",
    "%autoreload 2"
   ]
  },
  {
   "cell_type": "code",
   "execution_count": null,
   "metadata": {},
   "outputs": [],
   "source": [
    "from dask.distributed import Client\n",
    "\n",
    "client = Client(\"tcp://127.0.0.1:33942\")\n",
    "client"
   ]
  },
  {
   "cell_type": "code",
   "execution_count": null,
   "metadata": {},
   "outputs": [],
   "source": [
    "import dask.dataframe as dd\n",
    "\n",
    "df = dd.read_csv(\"../../../data/train/viznet/all.csv\", keep_default_na=False, dtype=str)"
   ]
  },
  {
   "cell_type": "code",
   "execution_count": null,
   "metadata": {},
   "outputs": [],
   "source": [
    "import csv\n",
    "import nltk\n",
    "import numpy as np\n",
    "\n",
    "df = df.persist()\n",
    "\n",
    "i = 2\n",
    "\n",
    "def ngrams(x):\n",
    "    tokens = nltk.wordpunct_tokenize(x)\n",
    "    return tokens\n",
    "\n",
    "df[f\"{i}_gram\"] = df[\"data\"].apply(ngrams, meta=(f\"{i}_gram\", np.array([\"\"])))\n",
    "ngram_df = df.explode(f\"{i}_gram\")\n",
    "value2count = ngram_df[f\"{i}_gram\"].value_counts()\n",
    "value2count.index.name = \"data\"\n",
    "value2count.to_frame(\"count\").to_csv(\n",
    "    f\"../../../data/train/viznet/ngram/token_count.csv\",\n",
    "    single_file=True,\n",
    "    quoting=csv.QUOTE_ALL,\n",
    ")\n",
    "df = df.drop(f\"{i}_gram\", axis=1)"
   ]
  },
  {
   "cell_type": "code",
   "execution_count": null,
   "metadata": {},
   "outputs": [],
   "source": []
  }
 ],
 "metadata": {
  "kernelspec": {
   "display_name": "Python 3.7.7 64-bit ('torch': conda)",
   "language": "python",
   "name": "python37764bittorchconda619657fd9e3249e097c69e9d63018998"
  },
  "language_info": {
   "codemirror_mode": {
    "name": "ipython",
    "version": 3
   },
   "file_extension": ".py",
   "mimetype": "text/x-python",
   "name": "python",
   "nbconvert_exporter": "python",
   "pygments_lexer": "ipython3",
   "version": "3.7.7"
  }
 },
 "nbformat": 4,
 "nbformat_minor": 4
}
