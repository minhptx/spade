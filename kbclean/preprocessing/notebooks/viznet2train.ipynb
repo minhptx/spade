{
 "cells": [
  {
   "cell_type": "code",
   "execution_count": null,
   "metadata": {},
   "outputs": [],
   "source": [
    "%load_ext autoreload\n",
    "%autoreload 2"
   ]
  },
  {
   "cell_type": "code",
   "execution_count": null,
   "metadata": {},
   "outputs": [],
   "source": [
    "from dask.distributed import Client\n",
    "\n",
    "client = Client(\"tcp://127.0.0.1:36075\")\n",
    "client"
   ]
  },
  {
   "cell_type": "code",
   "execution_count": null,
   "metadata": {},
   "outputs": [],
   "source": [
    "import ftfy\n",
    "import numpy as np\n",
    "import pandas as pd\n",
    "import dask.dataframe as dd\n",
    "\n",
    "# df = dd.read_csv(\"../../data/raw/viznet/*.csv\")\n",
    "\n",
    "# def eval_with_catch(x):\n",
    "#     try:\n",
    "#         return list(eval(x))\n",
    "#     except Exception:\n",
    "#         return [\"\"]\n",
    "\n",
    "\n",
    "# def clean_str(x):\n",
    "#     try:\n",
    "#         return ftfy.fix_text(x)\n",
    "#     except:\n",
    "#         return \"\"\n",
    "\n",
    "\n",
    "# df[\"data\"] = df[\"data\"].apply(func=eval_with_catch, meta=(\"data\", np.array([\"\"])))\n",
    "# df = df.explode(\"data\")\n",
    "# df = df.applymap(lambda x: clean_str(x))"
   ]
  },
  {
   "cell_type": "code",
   "execution_count": null,
   "metadata": {},
   "outputs": [],
   "source": [
    "# import csv\n",
    "\n",
    "# df[[\"data\"]].to_csv(\"../../data/train/viznet/all.csv\", single_file=True, quoting=csv.QUOTE_ALL, index=False)"
   ]
  },
  {
   "cell_type": "code",
   "execution_count": null,
   "metadata": {},
   "outputs": [],
   "source": [
    "df = dd.read_csv(\"../../../data/train/viznet/all.csv\", keep_default_na=False, dtype=str)"
   ]
  },
  {
   "cell_type": "code",
   "execution_count": null,
   "metadata": {},
   "outputs": [],
   "source": [
    "import csv\n",
    "import nltk\n",
    "\n",
    "df = df.persist()\n",
    "\n",
    "def ngrams(x, n):\n",
    "    if len(x) >= n:\n",
    "        return [\"\".join(ngram) for ngram in nltk.ngrams(list(x), n)]\n",
    "    else:\n",
    "        return [x]\n",
    "\n",
    "    \n",
    "for i in range(2, 5):\n",
    "    df[f\"{i}_gram\"] = df[\"data\"].apply(ngrams, meta=(f\"{i}_gram\", np.array([\"\"])), n=i)\n",
    "    ngram_df = df.explode(f\"{i}_gram\")\n",
    "    value2count = ngram_df[f\"{i}_gram\"].value_counts()\n",
    "    value2count.index.name = \"data\"\n",
    "    value2count.to_frame(\"count\").to_csv(\n",
    "        f\"../../../data/train/viznet/ngram/{i}_gram_count.csv\",\n",
    "        single_file=True,\n",
    "        quoting=csv.QUOTE_ALL,\n",
    "    )\n",
    "    df = df.drop(f\"{i}_gram\", axis=1)"
   ]
  },
  {
   "cell_type": "code",
   "execution_count": null,
   "metadata": {},
   "outputs": [],
   "source": []
  }
 ],
 "metadata": {
  "kernelspec": {
   "display_name": "Python 3.7.7 64-bit ('torch': conda)",
   "language": "python",
   "name": "python37764bittorchconda619657fd9e3249e097c69e9d63018998"
  },
  "language_info": {
   "codemirror_mode": {
    "name": "ipython",
    "version": 3
   },
   "file_extension": ".py",
   "mimetype": "text/x-python",
   "name": "python",
   "nbconvert_exporter": "python",
   "pygments_lexer": "ipython3",
   "version": "3.7.7"
  }
 },
 "nbformat": 4,
 "nbformat_minor": 4
}
