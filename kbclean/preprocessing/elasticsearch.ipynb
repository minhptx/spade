{
 "cells": [
  {
   "cell_type": "code",
   "execution_count": 28,
   "metadata": {},
   "outputs": [
    {
     "name": "stdout",
     "output_type": "stream",
     "text": [
      "The autoreload extension is already loaded. To reload it, use:\n",
      "  %reload_ext autoreload\n"
     ]
    }
   ],
   "source": [
    "%load_ext autoreload\n",
    "%autoreload 2"
   ]
  },
  {
   "cell_type": "code",
   "execution_count": 29,
   "metadata": {},
   "outputs": [
    {
     "data": {
      "text/html": [
       "<table style=\"border: 2px solid white;\">\n",
       "<tr>\n",
       "<td style=\"vertical-align: top; border: 0px solid white\">\n",
       "<h3 style=\"text-align: left;\">Client</h3>\n",
       "<ul style=\"text-align: left; list-style: none; margin: 0; padding: 0;\">\n",
       "  <li><b>Scheduler: </b>tcp://127.0.0.1:32836</li>\n",
       "  <li><b>Dashboard: </b><a href='http://127.0.0.1:8787/status' target='_blank'>http://127.0.0.1:8787/status</a></li>\n",
       "</ul>\n",
       "</td>\n",
       "<td style=\"vertical-align: top; border: 0px solid white\">\n",
       "<h3 style=\"text-align: left;\">Cluster</h3>\n",
       "<ul style=\"text-align: left; list-style:none; margin: 0; padding: 0;\">\n",
       "  <li><b>Workers: </b>8</li>\n",
       "  <li><b>Cores: </b>64</li>\n",
       "  <li><b>Memory: </b>720.00 GB</li>\n",
       "</ul>\n",
       "</td>\n",
       "</tr>\n",
       "</table>"
      ],
      "text/plain": [
       "<Client: 'tcp://127.0.0.1:32836' processes=8 threads=64, memory=720.00 GB>"
      ]
     },
     "execution_count": 29,
     "metadata": {},
     "output_type": "execute_result"
    }
   ],
   "source": [
    "from dask.distributed import Client\n",
    "\n",
    "client = Client(\"tcp://127.0.0.1:32836\")\n",
    "client"
   ]
  },
  {
   "cell_type": "code",
   "execution_count": 43,
   "metadata": {},
   "outputs": [],
   "source": [
    "import dask.dataframe as dd\n",
    "from pathlib import Path\n",
    "import glob\n",
    "\n",
    "for csv_file in glob.glob(\"../../data/train/viznet/*.csv\"):\n",
    "    if \"token\" in csv_file:\n",
    "        file_path = Path(csv_file)\n",
    "        df = dd.read_csv(file_path)\n",
    "        output_path = file_path.parent / file_path.stem\n",
    "        output_path.mkdir(parents=True, exist_ok=True)\n",
    "        df.to_json(str(output_path), compute=True, compression=\"gzip\")"
   ]
  },
  {
   "cell_type": "code",
   "execution_count": 39,
   "metadata": {},
   "outputs": [],
   "source": [
    "from elasticsearch import Elasticsearch, helpers\n",
    "\n",
    "es = Elasticsearch()"
   ]
  },
  {
   "cell_type": "code",
   "execution_count": 40,
   "metadata": {},
   "outputs": [
    {
     "data": {
      "text/plain": [
       "{'acknowledged': True,\n",
       " 'shards_acknowledged': True,\n",
       " 'index': 'reversed_indices'}"
      ]
     },
     "execution_count": 40,
     "metadata": {},
     "output_type": "execute_result"
    }
   ],
   "source": [
    "es.indices.create(\n",
    "        index=\"char_ngram\",\n",
    "        body={\n",
    "            \"settings\": {\"number_of_shards\": 2},\n",
    "            \"mappings\": {\n",
    "                \"properties\": {\n",
    "                    \"text\": {\"type\": \"keyword\"},\n",
    "                    \"count\": {\"type\": \"long\"},\n",
    "                }\n",
    "            },\n",
    "        },\n",
    "        ignore=400,\n",
    "    )\n",
    "\n",
    "es.indices.create(\n",
    "        index=\"tok_ngram\",\n",
    "        body={\n",
    "            \"settings\": {\"number_of_shards\": 2},\n",
    "            \"mappings\": {\n",
    "                \"properties\": {\n",
    "                    \"text\": {\"type\": \"keyword\"},\n",
    "                    \"count\": {\"type\": \"long\"},\n",
    "                }\n",
    "            },\n",
    "        },\n",
    "        ignore=400,\n",
    "    )\n",
    "\n",
    "es.indices.create(\n",
    "        index=\"reversed_indices\",\n",
    "        body={\n",
    "            \"settings\": {\"number_of_shards\": 2},\n",
    "            \"mappings\": {\n",
    "                \"properties\": {\n",
    "                    \"text\": {\"type\": \"keyword\"},\n",
    "                    \"indices\": {\"type\": \"nested\"},\n",
    "                }\n",
    "            },\n",
    "        },\n",
    "        ignore=400,\n",
    "    )"
   ]
  },
  {
   "cell_type": "code",
   "execution_count": null,
   "metadata": {},
   "outputs": [],
   "source": [
    "import rapidjson as json\n",
    "import gzip\n",
    "\n",
    "for sub_path in Path(\"../../data/train/viznet/ngram\").iterdir():\n",
    "    print(sub_path)\n",
    "    if sub_path.is_dir() and \"token\" not in sub_path.name:\n",
    "        for file_path in sub_path.iterdir():\n",
    "            if file_path.suffix == \".part\":\n",
    "                with gzip.GzipFile(file_path, 'r') as fin:\n",
    "                    data = [json.loads(l) for l in fin.readlines()]\n",
    "                    helpers.bulk(es, data, index=\"char_gram\")\n",
    "    elif sub_path.is_dir():\n",
    "        for file_path in sub_path.iterdir():\n",
    "            if file_path.suffix == \".part\":\n",
    "                with gzip.GzipFile(file_path, 'r') as fin:\n",
    "                    data = [json.loads(l) for l in fin.readlines()]\n",
    "                    helpers.bulk(es, data, index=\"tok_ngram\")\n",
    "\n",
    "for sub_path in Path(\"../../data/train/viznet\").iterdir():\n",
    "    if sub_path.suffix == \".jsonl\":\n",
    "        with open(sub_path, 'r') as fin:\n",
    "            data = [json.loads(l) for l in fin.readlines()]\n",
    "            helpers.bulk(es, data, index=\"reversed_indices\")"
   ]
  },
  {
   "cell_type": "code",
   "execution_count": null,
   "metadata": {},
   "outputs": [],
   "source": []
  }
 ],
 "metadata": {
  "kernelspec": {
   "display_name": "Python 3.7.7 64-bit ('torch': conda)",
   "language": "python",
   "name": "python37764bittorchconda619657fd9e3249e097c69e9d63018998"
  },
  "language_info": {
   "codemirror_mode": {
    "name": "ipython",
    "version": 3
   },
   "file_extension": ".py",
   "mimetype": "text/x-python",
   "name": "python",
   "nbconvert_exporter": "python",
   "pygments_lexer": "ipython3",
   "version": "3.7.7"
  }
 },
 "nbformat": 4,
 "nbformat_minor": 4
}
