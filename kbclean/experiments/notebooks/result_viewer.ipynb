{
 "cells": [
  {
   "cell_type": "code",
   "execution_count": null,
   "metadata": {},
   "outputs": [],
   "source": [
    "%load_ext autoreload\n",
    "%autoreload 2\n",
    "\n",
    "import sys\n",
    "\n",
    "if \"/nas/home/minhpham/workspace/kb-data-cleaning/kbclean\" not in sys.path:\n",
    "    sys.path.append(\"/nas/home/minhpham/workspace/kb-data-cleaning/kbclean\")"
   ]
  },
  {
   "cell_type": "code",
   "execution_count": null,
   "metadata": {},
   "outputs": [],
   "source": [
    "import pandas as pd\n",
    "from labext.prelude import A, M, W\n",
    "\n",
    "M.DataTable.register()"
   ]
  },
  {
   "cell_type": "code",
   "execution_count": null,
   "metadata": {},
   "outputs": [],
   "source": [
    "from pathlib import Path\n",
    "\n",
    "output_path = Path(\"../../../output\")\n",
    "report_path = output_path / \"report\"\n",
    "debug_path = output_path / \"debug\"\n",
    "matrix_path = output_path / \"matrix\""
   ]
  },
  {
   "cell_type": "code",
   "execution_count": null,
   "metadata": {},
   "outputs": [],
   "source": [
    "name2report = {}\n",
    "name2debug = {}\n",
    "name2matrix = {}\n",
    "\n",
    "for file_path in sorted(report_path.iterdir()):\n",
    "    print(file_path)\n",
    "    name2report[file_path.name] = pd.read_csv(file_path)[\n",
    "        [\"index\", \"precision\", \"recall\", \"f1-score\", \"support\"]\n",
    "    ]\n",
    "\n",
    "for file_path in sorted(debug_path.iterdir()):\n",
    "    print(file_path)\n",
    "    name2debug[file_path.name] = pd.read_csv(file_path)[\n",
    "        [\"col\", \"id\", \"from\", \"to\", \"prediction\"]\n",
    "    ]\n",
    "    \n",
    "for file_path in sorted(matrix_path.iterdir()):\n",
    "    print(file_path)\n",
    "    name2matrix[file_path.name] = pd.read_csv(file_path)[[\"index\", \"True\", \"False\"]]"
   ]
  },
  {
   "cell_type": "code",
   "execution_count": null,
   "metadata": {},
   "outputs": [],
   "source": [
    "import pandas as pd\n",
    "\n",
    "\n",
    "def render(index):\n",
    "    item = list(name2report.items())[index]\n",
    "    display(item[0], pd.DataFrame(item[1]))\n",
    "\n",
    "\n",
    "A.slider(render, max=len(name2report.values()) - 1)"
   ]
  },
  {
   "cell_type": "code",
   "execution_count": null,
   "metadata": {},
   "outputs": [],
   "source": [
    "import pandas as pd\n",
    "\n",
    "\n",
    "def render(index):\n",
    "    item = list(name2debug.items())[index]\n",
    "    display(item[0], pd.DataFrame(item[1]).sample(1000))\n",
    "\n",
    "\n",
    "A.slider(render, max=len(name2report.values()) - 1)"
   ]
  },
  {
   "cell_type": "code",
   "execution_count": null,
   "metadata": {},
   "outputs": [],
   "source": [
    "import pandas as pd\n",
    "\n",
    "\n",
    "def render(index):\n",
    "    item = list(name2matrix.items())[index]\n",
    "    display(item[0], pd.DataFrame(item[1]))\n",
    "\n",
    "\n",
    "A.slider(render, max=len(name2matrix.values()) - 1)"
   ]
  },
  {
   "cell_type": "code",
   "execution_count": null,
   "metadata": {},
   "outputs": [],
   "source": []
  }
 ],
 "metadata": {
  "kernel_info": {
   "name": "Untitled"
  },
  "kernelspec": {
   "display_name": "Python 3.7.7 64-bit ('torch': conda)",
   "language": "python",
   "name": "python37764bittorchconda619657fd9e3249e097c69e9d63018998"
  },
  "language_info": {
   "codemirror_mode": {
    "name": "ipython",
    "version": 3
   },
   "file_extension": ".py",
   "mimetype": "text/x-python",
   "name": "python",
   "nbconvert_exporter": "python",
   "pygments_lexer": "ipython3",
   "version": "3.7.7"
  }
 },
 "nbformat": 4,
 "nbformat_minor": 4
}
