{
 "cells": [
  {
   "cell_type": "code",
   "execution_count": 5,
   "metadata": {},
   "outputs": [
    {
     "name": "stdout",
     "output_type": "stream",
     "text": [
      "The autoreload extension is already loaded. To reload it, use:\n",
      "  %reload_ext autoreload\n"
     ]
    }
   ],
   "source": [
    "%load_ext autoreload\n",
    "%autoreload 2\n",
    "\n",
    "import sys\n",
    "\n",
    "if \"/nas/home/minhpham/workspace/kb-data-cleaning/kbclean\" not in sys.path:\n",
    "    sys.path.append(\"/nas/home/minhpham/workspace/kb-data-cleaning/kbclean\")"
   ]
  },
  {
   "cell_type": "code",
   "execution_count": 6,
   "metadata": {},
   "outputs": [
    {
     "data": {
      "application/javascript": [
       "require.config({ paths: {\"data_table\": \"/custom/labext/data_table/js/jquery.dataTables.min\"} });\n",
       "require([\"data_table\", \"jquery\"], function (data_table, jquery) {\n",
       "    if (document.querySelector(\"head link#data_table-css-fds82j1\") === null) {\n",
       "        var el = document.createElement(\"link\");\n",
       "        el.rel = \"stylesheet\";\n",
       "        el.id = \"data_table\";\n",
       "        el.type = \"text/css\";\n",
       "        el.href = \"/custom/labext/data_table/css/jquery.dataTables.min.css\";\n",
       "        document.head.appendChild(el);\n",
       "    }\n",
       "});\n"
      ],
      "text/plain": [
       "<IPython.core.display.Javascript object>"
      ]
     },
     "metadata": {},
     "output_type": "display_data"
    }
   ],
   "source": [
    "import pandas as pd\n",
    "from labext.prelude import A, M, W\n",
    "\n",
    "M.DataTable.register()"
   ]
  },
  {
   "cell_type": "code",
   "execution_count": 7,
   "metadata": {},
   "outputs": [],
   "source": [
    "from pathlib import Path\n",
    "\n",
    "output_path = Path(\"../../../output\")\n",
    "report_path = output_path / \"report\"\n",
    "debug_path = output_path / \"debug\"\n",
    "matrix_path = output_path / \"matrix\""
   ]
  },
  {
   "cell_type": "code",
   "execution_count": 9,
   "metadata": {},
   "outputs": [
    {
     "name": "stdout",
     "output_type": "stream",
     "text": [
      "../../../output/report/Beers.csv\n",
      "../../../output/report/Flights.csv\n",
      "../../../output/report/Hospital.csv\n",
      "../../../output/report/Movies.csv\n",
      "../../../output/report/Restaurants.csv\n",
      "../../../output/debug/Beers.csv\n",
      "../../../output/debug/Flights.csv\n",
      "../../../output/debug/Hospital.csv\n",
      "../../../output/debug/Movies.csv\n",
      "../../../output/debug/Restaurants.csv\n",
      "../../../output/matrix/Beers.csv\n",
      "../../../output/matrix/Flights.csv\n",
      "../../../output/matrix/Hospital.csv\n",
      "../../../output/matrix/Movies.csv\n",
      "../../../output/matrix/Restaurants.csv\n"
     ]
    }
   ],
   "source": [
    "name2report = {}\n",
    "name2debug = {}\n",
    "name2matrix = {}\n",
    "\n",
    "for file_path in sorted(report_path.iterdir()):\n",
    "    print(file_path)\n",
    "    name2report[file_path.name] = pd.read_csv(file_path)[\n",
    "        [\"index\", \"precision\", \"recall\", \"f1-score\", \"support\"]\n",
    "    ]\n",
    "\n",
    "for file_path in sorted(debug_path.iterdir()):\n",
    "    print(file_path)\n",
    "    name2debug[file_path.name] = pd.read_csv(file_path)[\n",
    "        [\"col\", \"id\", \"from\", \"to\", \"prediction\"]\n",
    "    ]\n",
    "    \n",
    "for file_path in sorted(matrix_path.iterdir()):\n",
    "    print(file_path)\n",
    "    name2matrix[file_path.name] = pd.read_csv(file_path)[[\"index\", \"True\", \"False\"]]"
   ]
  },
  {
   "cell_type": "code",
   "execution_count": 10,
   "metadata": {},
   "outputs": [
    {
     "data": {
      "application/vnd.jupyter.widget-view+json": {
       "model_id": "015bd8452ead49d69ea8c2b4fdea2dc5",
       "version_major": 2,
       "version_minor": 0
      },
      "text/plain": [
       "HBox(children=(Button(description='Previous', icon='arrow-circle-left', style=ButtonStyle()), Button(descripti…"
      ]
     },
     "metadata": {},
     "output_type": "display_data"
    },
    {
     "data": {
      "application/vnd.jupyter.widget-view+json": {
       "model_id": "928fb6487c8a469cb685bcc61dfbb148",
       "version_major": 2,
       "version_minor": 0
      },
      "text/plain": [
       "Output()"
      ]
     },
     "metadata": {},
     "output_type": "display_data"
    }
   ],
   "source": [
    "import pandas as pd\n",
    "\n",
    "\n",
    "def render(index):\n",
    "    item = list(name2report.items())[index]\n",
    "    display(item[0], pd.DataFrame(item[1]))\n",
    "\n",
    "\n",
    "A.slider(render, max=len(name2report.values()) - 1)"
   ]
  },
  {
   "cell_type": "code",
   "execution_count": 11,
   "metadata": {},
   "outputs": [
    {
     "data": {
      "application/vnd.jupyter.widget-view+json": {
       "model_id": "449f672f08954486884fae1f545cda48",
       "version_major": 2,
       "version_minor": 0
      },
      "text/plain": [
       "HBox(children=(Button(description='Previous', icon='arrow-circle-left', style=ButtonStyle()), Button(descripti…"
      ]
     },
     "metadata": {},
     "output_type": "display_data"
    },
    {
     "data": {
      "application/vnd.jupyter.widget-view+json": {
       "model_id": "c01a1064ed64414a9722b7cfa3de132d",
       "version_major": 2,
       "version_minor": 0
      },
      "text/plain": [
       "Output()"
      ]
     },
     "metadata": {},
     "output_type": "display_data"
    }
   ],
   "source": [
    "import pandas as pd\n",
    "\n",
    "\n",
    "def render(index):\n",
    "    item = list(name2debug.items())[index]\n",
    "    display(item[0], pd.DataFrame(item[1]).sample(1000))\n",
    "\n",
    "\n",
    "A.slider(render, max=len(name2report.values()) - 1)"
   ]
  },
  {
   "cell_type": "code",
   "execution_count": null,
   "metadata": {},
   "outputs": [],
   "source": [
    "import pandas as pd\n",
    "\n",
    "\n",
    "def render(index):\n",
    "    item = list(name2matrix.items())[index]\n",
    "    display(item[0], pd.DataFrame(item[1]))\n",
    "\n",
    "\n",
    "A.slider(render, max=len(name2matrix.values()) - 1)"
   ]
  },
  {
   "cell_type": "code",
   "execution_count": null,
   "metadata": {},
   "outputs": [],
   "source": []
  }
 ],
 "metadata": {
  "kernel_info": {
   "name": "Untitled"
  },
  "kernelspec": {
   "display_name": "Python 3.7.7 64-bit ('torch': conda)",
   "language": "python",
   "name": "python37764bittorchconda619657fd9e3249e097c69e9d63018998"
  },
  "language_info": {
   "codemirror_mode": {
    "name": "ipython",
    "version": 3
   },
   "file_extension": ".py",
   "mimetype": "text/x-python",
   "name": "python",
   "nbconvert_exporter": "python",
   "pygments_lexer": "ipython3",
   "version": "3.7.7"
  }
 },
 "nbformat": 4,
 "nbformat_minor": 4
}
