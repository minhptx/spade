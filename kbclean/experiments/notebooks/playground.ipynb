{
 "cells": [
  {
   "cell_type": "code",
   "execution_count": 7,
   "metadata": {},
   "outputs": [],
   "source": [
    "from sentence_transformers import SentenceTransformer, util\n",
    "embedder = SentenceTransformer('distilbert-base-nli-stsb-mean-tokens')"
   ]
  },
  {
   "cell_type": "code",
   "execution_count": 15,
   "metadata": {},
   "outputs": [
    {
     "name": "stdout",
     "output_type": "stream",
     "text": [
      "\n",
      "\n",
      "======================\n",
      "\n",
      "\n",
      "Query: 65 D x 34 W\n",
      "\n",
      "Top 5 most similar sentences in corpus:\n",
      "18 D x 11 W (Score: 0.1554)\n"
     ]
    }
   ],
   "source": [
    "import numpy as np\n",
    "\n",
    "queries = [\"65 D x 34 W\"]\n",
    "corpus = [\"18 D x 11 W\"]\n",
    "corpus_embeddings = embedder.encode(corpus, convert_to_tensor=True)\n",
    "\n",
    "for query in queries:\n",
    "    query_embedding = embedder.encode(query, convert_to_tensor=True)\n",
    "    cos_scores = util.pytorch_cos_sim(query_embedding, corpus_embeddings)[0]\n",
    "    cos_scores = cos_scores.cpu()\n",
    "    \n",
    "    top_results = np.argpartition(-cos_scores, range(1))[0:1]\n",
    "\n",
    "    print(\"\\n\\n======================\\n\\n\")\n",
    "    print(\"Query:\", query)\n",
    "    print(\"\\nTop 5 most similar sentences in corpus:\")\n",
    "\n",
    "    for idx in top_results[0:1]:\n",
    "        print(corpus[idx].strip(), \"(Score: %.4f)\" % (cos_scores[idx]))"
   ]
  },
  {
   "cell_type": "code",
   "execution_count": 1,
   "metadata": {},
   "outputs": [],
   "source": [
    "import gensim"
   ]
  },
  {
   "cell_type": "code",
   "execution_count": 4,
   "metadata": {},
   "outputs": [],
   "source": [
    "model = gensim.models.KeyedVectors.load_word2vec_format('../../../embeddings/crawl-300d-2M-subword.vec')"
   ]
  },
  {
   "cell_type": "code",
   "execution_count": 11,
   "metadata": {},
   "outputs": [],
   "source": [
    "similar = model.most_similar(positive=['CA'],topn=100)"
   ]
  },
  {
   "cell_type": "code",
   "execution_count": 12,
   "metadata": {},
   "outputs": [
    {
     "data": {
      "text/plain": [
       "[('CA.', 0.8257837891578674),\n",
       " ('Calif', 0.7717799544334412),\n",
       " ('Calif.', 0.7627319693565369),\n",
       " ('Ca.', 0.7565553188323975),\n",
       " ('California', 0.7126784920692444),\n",
       " ('CA-', 0.7072696685791016),\n",
       " ('CA.The', 0.6898725032806396),\n",
       " ('CA.I', 0.6870466470718384),\n",
       " ('Ca', 0.6701846718788147),\n",
       " ('FL', 0.6588267087936401),\n",
       " ('Calif.-', 0.6541189551353455),\n",
       " ('CA.-', 0.6525632739067078),\n",
       " ('CAIf', 0.6491033434867859),\n",
       " ('CA--', 0.6479460597038269),\n",
       " ('CACalifornia', 0.6449135541915894),\n",
       " ('CA-based', 0.6431484818458557),\n",
       " ('calif', 0.6332992315292358),\n",
       " ('CA.This', 0.6327185034751892),\n",
       " ('CALIFORNIA', 0.6303588151931763),\n",
       " ('California.', 0.6198129057884216),\n",
       " ('CAIn', 0.6095953583717346),\n",
       " ('TX', 0.6065686345100403),\n",
       " ('non-CA', 0.603902280330658),\n",
       " ('Calif.--', 0.6035851240158081),\n",
       " ('CAWe', 0.6009888052940369),\n",
       " ('CAThis', 0.6002363562583923),\n",
       " ('Califonia', 0.6001567244529724),\n",
       " ('WA', 0.5960197448730469),\n",
       " ('Calif.The', 0.594637930393219),\n",
       " ('Califorina', 0.5928296446800232),\n",
       " ('Calif.-based', 0.5923219323158264),\n",
       " ('California.1', 0.5920283794403076),\n",
       " ('IL', 0.5917127132415771),\n",
       " ('Californa', 0.5904603600502014),\n",
       " ('CAAbout', 0.5866041779518127),\n",
       " ('NJ', 0.586216390132904),\n",
       " ('NY', 0.5853865742683411),\n",
       " ('Calif.In', 0.5832007527351379),\n",
       " ('California-', 0.5826950669288635),\n",
       " ('CAThe', 0.5813263654708862),\n",
       " ('California.A', 0.5808930993080139),\n",
       " ('MO', 0.5806844830513),\n",
       " ('California10', 0.5803930163383484),\n",
       " ('CAWest', 0.5781691074371338),\n",
       " ('CARead', 0.5770322680473328),\n",
       " ('Califorinia', 0.5766950249671936),\n",
       " ('California.As', 0.5751621127128601),\n",
       " ('Californai', 0.5729691386222839),\n",
       " ('CAIt', 0.5723145008087158),\n",
       " ('CAComments', 0.571450412273407),\n",
       " ('Califórnia', 0.570561408996582),\n",
       " ('NM', 0.5697334408760071),\n",
       " ('CaliforniaFor', 0.569608747959137),\n",
       " ('Callifornia', 0.5680788159370422),\n",
       " ('CaliforniaView', 0.5678000450134277),\n",
       " ('Californina', 0.5665591359138489),\n",
       " ('Californ', 0.5665495991706848),\n",
       " ('Moorpark', 0.5660109519958496),\n",
       " ('Californi', 0.5655480623245239),\n",
       " ('California1', 0.5652358531951904),\n",
       " ('CASenior', 0.5636633634567261),\n",
       " ('Californië', 0.5619065165519714),\n",
       " ('calif.', 0.5615155696868896),\n",
       " ('Calif-based', 0.5609893798828125),\n",
       " ('CAAugust', 0.5608994364738464),\n",
       " ('CaliforniaUnited', 0.560375988483429),\n",
       " ('California--', 0.5565209984779358),\n",
       " ('CAOur', 0.5560293793678284),\n",
       " ('CaliforniaCalifornia', 0.5555910468101501),\n",
       " ('Valyermo', 0.5553982853889465),\n",
       " ('Califoria', 0.5549664497375488),\n",
       " ('MN', 0.5547829270362854),\n",
       " ('Temecula', 0.5546777844429016),\n",
       " ('CACome', 0.5546621680259705),\n",
       " ('LOMPOC', 0.554486095905304),\n",
       " ('AZ', 0.5540032386779785),\n",
       " ('Calfornia', 0.553058385848999),\n",
       " ('California.I', 0.5529721975326538),\n",
       " ('Watsonville', 0.5522869825363159),\n",
       " ('CAMy', 0.5515740513801575),\n",
       " ('California.This', 0.5509199500083923),\n",
       " ('Californis', 0.5509108901023865),\n",
       " ('Oxnard', 0.5502675175666809),\n",
       " ('CaliforniaSanta', 0.5501870512962341),\n",
       " ('California5', 0.5501642227172852),\n",
       " ('CaliforniaU.S.A.', 0.5496352910995483),\n",
       " ('CAJune', 0.5493794679641724),\n",
       " ('NV', 0.5490933060646057),\n",
       " ('Bakersfield', 0.5477710962295532),\n",
       " ('Cal.', 0.5474041104316711),\n",
       " ('CaliforniaA', 0.5470942854881287),\n",
       " ('CAContact', 0.5469961166381836),\n",
       " ('California.From', 0.5464035272598267),\n",
       " ('CADate', 0.5461767911911011),\n",
       " ('Poway', 0.5457821488380432),\n",
       " ('Califòrnia', 0.5424323081970215),\n",
       " ('MI', 0.5413435101509094),\n",
       " ('Cali.', 0.5408298969268799),\n",
       " ('Vacaville', 0.5405871868133545),\n",
       " ('CAFor', 0.5403189659118652)]"
      ]
     },
     "execution_count": 12,
     "metadata": {},
     "output_type": "execute_result"
    }
   ],
   "source": [
    "similar"
   ]
  },
  {
   "cell_type": "code",
   "execution_count": null,
   "metadata": {},
   "outputs": [],
   "source": []
  }
 ],
 "metadata": {
  "kernelspec": {
   "display_name": "Python 3.7.7 64-bit ('torch': conda)",
   "language": "python",
   "name": "python37764bittorchconda619657fd9e3249e097c69e9d63018998"
  },
  "language_info": {
   "codemirror_mode": {
    "name": "ipython",
    "version": 3
   },
   "file_extension": ".py",
   "mimetype": "text/x-python",
   "name": "python",
   "nbconvert_exporter": "python",
   "pygments_lexer": "ipython3",
   "version": "3.7.7"
  }
 },
 "nbformat": 4,
 "nbformat_minor": 4
}
