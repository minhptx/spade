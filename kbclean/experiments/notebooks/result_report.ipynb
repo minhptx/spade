{
 "cells": [
  {
   "cell_type": "markdown",
   "metadata": {},
   "source": [
    "# Result Report"
   ]
  },
  {
   "cell_type": "code",
   "execution_count": 1,
   "metadata": {},
   "outputs": [],
   "source": [
    "from collections import defaultdict\n",
    "from pathlib import Path\n",
    "\n",
    "import numpy as np\n",
    "import pandas as pd\n",
    "import seaborn as sns\n",
    "\n",
    "dataset = \"rbo\"\n",
    "\n",
    "\n",
    "def not_equal(df1, df2):\n",
    "    return (df1 != df2) & ~(df1.isnull() & df2.isnull())\n",
    "\n",
    "\n",
    "def diff_dfs(df1, df2, compare_func=not_equal):\n",
    "    assert (df1.columns == df2.columns).all(), \"DataFrame column names are different\"\n",
    "    if any(df1.dtypes != df2.dtypes):\n",
    "        \"Data Types are different, trying to convert\"\n",
    "        df2 = df2.astype(df1.dtypes)\n",
    "    if df1.equals(df2):\n",
    "        return None\n",
    "    else:\n",
    "        diff_mask = compare_func(df1, df2)\n",
    "        ne_stacked = diff_mask.stack()\n",
    "        changed = ne_stacked[ne_stacked]\n",
    "        changed.index.names = [\"id\", \"col\"]\n",
    "        difference_locations = np.where(diff_mask)\n",
    "        changed_from = df1.values[difference_locations]\n",
    "        changed_to = df2.values[difference_locations]\n",
    "        df = pd.DataFrame(\n",
    "            {\"Outliers\": changed_from, \"Normal values\": changed_to},\n",
    "            index=changed.index,\n",
    "        )\n",
    "        df[\"id\"] = df.index.get_level_values(\"id\")\n",
    "        df[\"col\"] = df.index.get_level_values(\"col\")\n",
    "        df[\"Outliers\"] = df[\"Outliers\"].apply(lambda x: x[:53])\n",
    "        df[\"Normal values\"] = df[\"Normal values\"].apply(lambda x: x[:53])\n",
    "        return df[[\"Outliers\", \"Normal values\"]].reset_index(drop=True)\n",
    "\n",
    "\n",
    "output_path = Path(\"../../../output\") / dataset\n",
    "raw_path = Path(\"../../../data/test/rbo/raw\")\n",
    "cleaned_path = Path(\"../../../data/test/rbo/cleaned\")\n",
    "\n",
    "name2diff = {}\n",
    "name2report = defaultdict(lambda: pd.DataFrame())\n",
    "name2debug = defaultdict(lambda: [None for _ in range(10)])\n",
    "\n",
    "for dataset_path in output_path.iterdir():\n",
    "    if dataset_path.name != \"summary\":\n",
    "        raw_df = pd.read_csv(raw_path / f\"{dataset_path.name}.csv\", dtype=str, keep_default_na=False)\n",
    "        cleaned_df = pd.read_csv(\n",
    "            cleaned_path / f\"{dataset_path.name}.csv\", dtype=str, keep_default_na=False\n",
    "        )\n",
    "        name2diff[dataset_path.name] = diff_dfs(raw_df, cleaned_df)\n",
    "        \n",
    "        for step_path in dataset_path.iterdir():\n",
    "            report_df = pd.read_csv(dataset_path / step_path.name / \"report.csv\")\n",
    "            score_df = pd.read_csv(dataset_path / step_path.name / \"scores.csv\")\n",
    "\n",
    "            report_values = report_df[report_df[\"index\"] == \"False\"]\n",
    "\n",
    "            name2report[dataset_path.name] = name2report[dataset_path.name].append(\n",
    "                {\n",
    "                    \"precision\": report_values[\"precision\"].item(),\n",
    "                    \"recall\": report_values[\"recall\"].item(),\n",
    "                    \"f1-score\": report_values[\"f1-score\"].item(),\n",
    "                },\n",
    "                ignore_index=True,\n",
    "            )\n",
    "            \n",
    "            name2debug[dataset_path.name][int(step_path.name)] = score_df"
   ]
  },
  {
   "cell_type": "code",
   "execution_count": 2,
   "metadata": {},
   "outputs": [
    {
     "data": {
      "application/vnd.jupyter.widget-view+json": {
       "model_id": "bf144c75ae724a5386f417e5b92a8226",
       "version_major": 2,
       "version_minor": 0
      },
      "text/plain": [
       "HBox(children=(Button(description='Previous', icon='arrow-circle-left', style=ButtonStyle()), Button(descripti…"
      ]
     },
     "metadata": {},
     "output_type": "display_data"
    },
    {
     "data": {
      "application/vnd.jupyter.widget-view+json": {
       "model_id": "c9b4910951d849deba6a14e73f939468",
       "version_major": 2,
       "version_minor": 0
      },
      "text/plain": [
       "Output()"
      ]
     },
     "metadata": {},
     "output_type": "display_data"
    }
   ],
   "source": [
    "from labext.prelude import M, A, W\n",
    "import matplotlib.pyplot as plt\n",
    "from IPython.display import HTML, Markdown, display, Javascript\n",
    "\n",
    "def render(index):\n",
    "    name = list(name2diff.keys())[index]\n",
    "\n",
    "    diff_df = name2diff[name]\n",
    "    \n",
    "    display(HTML(f\"<h2>Dataset: {name}<h2>\"))\n",
    "    \n",
    "    display(HTML(\"<h3>Result:<h3>\"))\n",
    "    ax = name2report[name].plot(kind=\"line\")\n",
    "    plt.show()\n",
    "    \n",
    "    display(HTML(\"<h3>Outlier Examples:<h3>\"))\n",
    "    M.DataTable.render(diff_df)\n",
    "    \n",
    "    display(HTML(\"<h3>Predictions:<h3>\"))\n",
    "    \n",
    "    def render_debug(index):\n",
    "        debug_df = name2debug[name][index]\n",
    "        M.DataTable.render(debug_df)\n",
    "\n",
    "    A.slider(render_debug, max=9)\n",
    "    \n",
    "A.slider(render, max=len(name2diff) - 1)"
   ]
  },
  {
   "cell_type": "code",
   "execution_count": null,
   "metadata": {},
   "outputs": [],
   "source": []
  }
 ],
 "metadata": {
  "kernelspec": {
   "display_name": "Python 3.7.7 64-bit ('torch': conda)",
   "language": "python",
   "name": "python37764bittorchconda619657fd9e3249e097c69e9d63018998"
  },
  "language_info": {
   "codemirror_mode": {
    "name": "ipython",
    "version": 3
   },
   "file_extension": ".py",
   "mimetype": "text/x-python",
   "name": "python",
   "nbconvert_exporter": "python",
   "pygments_lexer": "ipython3",
   "version": "3.7.7"
  }
 },
 "nbformat": 4,
 "nbformat_minor": 4
}
