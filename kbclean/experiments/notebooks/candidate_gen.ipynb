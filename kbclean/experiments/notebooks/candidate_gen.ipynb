{
 "cells": [
  {
   "cell_type": "code",
   "execution_count": null,
   "metadata": {},
   "outputs": [],
   "source": [
    "%load_ext autoreload\n",
    "%autoreload 2\n",
    "\n",
    "import sys\n",
    "\n",
    "if \"/nas/home/minhpham/workspace/deep-clean/\" not in sys.path:\n",
    "    sys.path.append(\"/nas/home/minhpham/workspace/deep-clean/\")\n",
    "    \n",
    "from labext.prelude import M, A, W\n",
    "M.DataTable.register()"
   ]
  },
  {
   "cell_type": "code",
   "execution_count": null,
   "metadata": {},
   "outputs": [],
   "source": [
    "from kbclean.detection.stats import CandidateGeneration\n",
    "from kbclean.utils.inout import load_config\n",
    "\n",
    "hparams = load_config(\"../../../config/\")\n",
    "\n",
    "cand_gen = CandidateGeneration(hparams.stats)"
   ]
  },
  {
   "cell_type": "code",
   "execution_count": null,
   "metadata": {},
   "outputs": [],
   "source": [
    "from kbclean.evaluation import Evaluator\n",
    "\n",
    "evaluator = Evaluator()\n",
    "name2raw, name2cleaned, name2groundtruth = evaluator.read_dataset(\n",
    "    \"../../../data/test/ed2/\"\n",
    ")"
   ]
  },
  {
   "cell_type": "code",
   "execution_count": null,
   "metadata": {},
   "outputs": [],
   "source": [
    "M.DataTable.render(name2raw[\"Hospital.csv\"])"
   ]
  },
  {
   "cell_type": "code",
   "execution_count": null,
   "metadata": {},
   "outputs": [],
   "source": [
    "cand_gen.generate_candidates(name2raw[\"Hospital.csv\"][\"hospital name\"])"
   ]
  },
  {
   "cell_type": "code",
   "execution_count": null,
   "metadata": {},
   "outputs": [],
   "source": []
  }
 ],
 "metadata": {
  "kernelspec": {
   "display_name": "Python 3.7.7 64-bit ('torch': conda)",
   "language": "python",
   "name": "python37764bittorchconda619657fd9e3249e097c69e9d63018998"
  },
  "language_info": {
   "codemirror_mode": {
    "name": "ipython",
    "version": 3
   },
   "file_extension": ".py",
   "mimetype": "text/x-python",
   "name": "python",
   "nbconvert_exporter": "python",
   "pygments_lexer": "ipython3",
   "version": "3.7.7"
  }
 },
 "nbformat": 4,
 "nbformat_minor": 4
}
